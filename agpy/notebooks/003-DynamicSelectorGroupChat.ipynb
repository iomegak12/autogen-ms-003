{
 "cells": [
  {
   "cell_type": "markdown",
   "id": "093bc6b7",
   "metadata": {},
   "source": [
    "#### Learning Selector Group Chat for Dynamic Selection of Agents"
   ]
  },
  {
   "cell_type": "code",
   "execution_count": null,
   "id": "f97ffee4",
   "metadata": {},
   "outputs": [],
   "source": [
    "from autogen_agentchat.agents import AssistantAgent\n",
    "from autogen_agentchat.conditions import TextMentionTermination, MaxMessageTermination\n",
    "from autogen_agentchat.teams import SelectorGroupChat\n",
    "from autogen_agentchat.messages import AgentEvent, ChatMessage\n",
    "from autogen_agentchat.base import TaskResult\n",
    "from autogen_ext.models.openai import AzureOpenAIChatCompletionClient\n",
    "from autogen_agentchat.ui import Console\n",
    "\n",
    "from dotenv import load_dotenv\n",
    "\n",
    "import os"
   ]
  },
  {
   "cell_type": "code",
   "execution_count": null,
   "id": "48284418",
   "metadata": {},
   "outputs": [],
   "source": [
    "load_dotenv(override=True)\n",
    "\n",
    "azure_openai_api_key = os.getenv(\"AZURE_OPENAI_API_KEY\")\n",
    "azure_openai_endpoint = os.getenv(\"AZURE_OPENAI_ENDPOINT\")\n",
    "azure_openai_api_version = os.getenv(\"AZURE_OPENAI_API_VERSION\", \"2023-05-15\")\n",
    "azure_openai_deployment_name = os.getenv(\n",
    "    \"AZURE_OPENAI_DEPLOYMENT_NAME\", \"gpt-35-turbo\")\n",
    "\n",
    "if not azure_openai_api_key or \\\n",
    "        not azure_openai_endpoint or \\\n",
    "        not azure_openai_api_version or \\\n",
    "        not azure_openai_deployment_name:\n",
    "    raise ValueError(\n",
    "        \"Please set Azure Open AI Endpoint Details in your environment variables.\")"
   ]
  },
  {
   "cell_type": "code",
   "execution_count": null,
   "id": "64775b98",
   "metadata": {},
   "outputs": [],
   "source": [
    "model_client = AzureOpenAIChatCompletionClient(\n",
    "    azure_deployment=azure_openai_deployment_name,\n",
    "    model=azure_openai_deployment_name,\n",
    "    api_key=azure_openai_api_key,\n",
    "    azure_endpoint=azure_openai_endpoint,\n",
    "    api_version=azure_openai_api_version,\n",
    ")"
   ]
  },
  {
   "cell_type": "code",
   "execution_count": null,
   "id": "b4ccc2fd",
   "metadata": {},
   "outputs": [],
   "source": [
    "def weather_check_tool(city: str) -> str:\n",
    "    weather_data = {\n",
    "        \"New York\": \"It's sunny in New York.\",\n",
    "        \"Los Angeles\": \"It's cloudy in Los Angeles.\",\n",
    "        \"Chicago\": \"It's rainy in Chicago.\",\n",
    "        \"London\": \"It's foggy in London.\",\n",
    "        \"Tokyo\": \"It's sunny in Tokyo.\",\n",
    "        \"Sydney\": \"It's warm in Sydney.\",\n",
    "        \"Berlin\": \"It's chilly in Berlin.\",\n",
    "    }\n",
    "\n",
    "    return weather_data.get(city, \"Weather data not available for this city.\")\n",
    "\n",
    "\n",
    "def currency_exchange_tool(amount: float, from_currency: str, to_currency: str) -> str:\n",
    "    exchange_rates = {\n",
    "        \"USD\": {\"EUR\": 0.85, \"JPY\": 110.0},\n",
    "        \"EUR\": {\"USD\": 1.18, \"JPY\": 130.0},\n",
    "        \"JPY\": {\"USD\": 0.0091, \"EUR\": 0.0077},\n",
    "        \"GBP\": {\"USD\": 1.39, \"EUR\": 1.16},\n",
    "        \"AUD\": {\"USD\": 0.74, \"EUR\": 0.63},\n",
    "    }\n",
    "\n",
    "    if from_currency in exchange_rates and to_currency in exchange_rates[from_currency]:\n",
    "        rate = exchange_rates[from_currency][to_currency]\n",
    "        converted_amount = amount * rate\n",
    "        return f\"{amount} {from_currency} is {converted_amount:.2f} {to_currency}.\"\n",
    "    else:\n",
    "        return \"Currency conversion not available for the specified currencies.\""
   ]
  },
  {
   "cell_type": "code",
   "execution_count": null,
   "id": "c524d4af",
   "metadata": {},
   "outputs": [],
   "source": [
    "planning_agent = AssistantAgent(\n",
    "    \"PlanningAgent\",\n",
    "    description=\"An agent that plans tasks based on user requests.\",\n",
    "    model_client=model_client,\n",
    "    system_message=\"\"\"\n",
    "        You are a planning agent. Your task is to plan tasks based on user requests.\n",
    "        Your job is to break down user requests into actionable tasks and assign them to appropriate agents.\n",
    "        Your Team members are specialized agents that can perform specific tasks.\n",
    "            - WeatherAgent: Provides weather information for a given city.\n",
    "            - CurrencyExchangeAgent: Converts currency amounts between different currencies.\n",
    "        You only plan tasks and do not execute them yourself.\n",
    "        After all tasks are completed, summarize the findings and end with \"TERMINATE\".\n",
    "        \n",
    "        When assigning tasks, use the following format:\n",
    "        ```\n",
    "        1. Agent <agent_name> : Task <task>\n",
    "        ```\n",
    "        \n",
    "        \n",
    "    \"\"\",\n",
    ")\n",
    "\n",
    "weather_agent = AssistantAgent(\n",
    "    \"WeatherAgent\",\n",
    "    description=\"An agent that provides weather information for a given city.\",\n",
    "    model_client=model_client,\n",
    "    system_message=\"\"\"\n",
    "        You are a weather information agent. \n",
    "        Your task is to provide weather information for a given city.\n",
    "        When asked about the weather, respond with the current weather conditions in the specified city.\n",
    "    \"\"\",\n",
    "    tools=[weather_check_tool],\n",
    ")\n",
    "\n",
    "currency_exchange_agent = AssistantAgent(\n",
    "    \"CurrencyExchangeAgent\",\n",
    "    description=\"An agent that converts currency amounts between different currencies.\",\n",
    "    model_client=model_client,\n",
    "    system_message=\"\"\"\n",
    "        You are a currency exchange agent.\n",
    "        Your task is to convert currency amounts between different currencies.\n",
    "        When asked to convert currency, respond with the converted amount in the specified currency.\n",
    "    \"\"\",\n",
    "    tools=[currency_exchange_tool],\n",
    ")"
   ]
  },
  {
   "cell_type": "code",
   "execution_count": null,
   "id": "74c71b23",
   "metadata": {},
   "outputs": [],
   "source": [
    "from typing import Sequence\n",
    "\n",
    "\n",
    "def custom_selector_func(messages: Sequence[AgentEvent | ChatMessage]) -> str | None:\n",
    "    if messages[-1].source != planning_agent.name:\n",
    "        return planning_agent.name\n",
    "\n",
    "    return None"
   ]
  },
  {
   "cell_type": "code",
   "execution_count": null,
   "id": "de189df7",
   "metadata": {},
   "outputs": [],
   "source": [
    "text_mention_termination = TextMentionTermination(\"TERMINATE\")\n",
    "max_message_termination = MaxMessageTermination(10)\n",
    "combined_termination = text_mention_termination | max_message_termination\n",
    "\n",
    "team = SelectorGroupChat(\n",
    "    [planning_agent, weather_agent, currency_exchange_agent],\n",
    "    termination_condition=combined_termination,\n",
    "    allow_repeated_speaker=True,\n",
    "    selector_func=custom_selector_func,\n",
    ")"
   ]
  },
  {
   "cell_type": "code",
   "execution_count": null,
   "id": "0126da87",
   "metadata": {},
   "outputs": [],
   "source": [
    "task = \"What's the weather in New York and how much is 100 USD in EUR?\"\n",
    "\n",
    "await Console(\n",
    "    team.run_stream(task=task))"
   ]
  }
 ],
 "metadata": {
  "kernelspec": {
   "display_name": ".venv",
   "language": "python",
   "name": "python3"
  },
  "language_info": {
   "codemirror_mode": {
    "name": "ipython",
    "version": 3
   },
   "file_extension": ".py",
   "mimetype": "text/x-python",
   "name": "python",
   "nbconvert_exporter": "python",
   "pygments_lexer": "ipython3",
   "version": "3.12.9"
  }
 },
 "nbformat": 4,
 "nbformat_minor": 5
}
