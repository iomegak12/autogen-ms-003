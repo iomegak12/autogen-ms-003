{
 "cells": [
  {
   "cell_type": "markdown",
   "id": "75069f58",
   "metadata": {},
   "source": [
    "### Learning AutoGen RoundRobin Group Chat"
   ]
  },
  {
   "cell_type": "code",
   "execution_count": null,
   "id": "542acd51",
   "metadata": {},
   "outputs": [],
   "source": [
    "from autogen_agentchat.agents import AssistantAgent\n",
    "from autogen_agentchat.conditions import TextMentionTermination\n",
    "from autogen_agentchat.teams import RoundRobinGroupChat\n",
    "from autogen_agentchat.base import TaskResult\n",
    "from autogen_ext.models.openai import AzureOpenAIChatCompletionClient\n",
    "from autogen_agentchat.ui import Console\n",
    "\n",
    "from dotenv import load_dotenv\n",
    "\n",
    "import os"
   ]
  },
  {
   "cell_type": "code",
   "execution_count": null,
   "id": "6729fd05",
   "metadata": {},
   "outputs": [],
   "source": [
    "load_dotenv(override=True)\n",
    "\n",
    "azure_openai_api_key = os.getenv(\"AZURE_OPENAI_API_KEY\")\n",
    "azure_openai_endpoint = os.getenv(\"AZURE_OPENAI_ENDPOINT\")\n",
    "azure_openai_api_version = os.getenv(\"AZURE_OPENAI_API_VERSION\", \"2023-05-15\")\n",
    "azure_openai_deployment_name = os.getenv(\n",
    "    \"AZURE_OPENAI_DEPLOYMENT_NAME\", \"gpt-35-turbo\")\n",
    "\n",
    "if not azure_openai_api_key or \\\n",
    "        not azure_openai_endpoint or \\\n",
    "        not azure_openai_api_version or \\\n",
    "        not azure_openai_deployment_name:\n",
    "    raise ValueError(\n",
    "        \"Please set Azure Open AI Endpoint Details in your environment variables.\")"
   ]
  },
  {
   "cell_type": "code",
   "execution_count": null,
   "id": "850cb556",
   "metadata": {},
   "outputs": [],
   "source": [
    "model_client = AzureOpenAIChatCompletionClient(\n",
    "    azure_deployment=azure_openai_deployment_name,\n",
    "    model=azure_openai_deployment_name,\n",
    "    api_key=azure_openai_api_key,\n",
    "    azure_endpoint=azure_openai_endpoint,\n",
    "    api_version=azure_openai_api_version,\n",
    ")"
   ]
  },
  {
   "cell_type": "code",
   "execution_count": null,
   "id": "7519e9ca",
   "metadata": {},
   "outputs": [],
   "source": [
    "blog_post_draft_agent = AssistantAgent(\n",
    "    name=\"BlogPostDraftAgent\",\n",
    "    model_client=model_client,\n",
    "    system_message=\"\"\"\n",
    "    You are an expert blog post writer. Your task is to draft a blog post based on the provided topic.\n",
    "    The blog post should be engaging, informative, and well-structured.\n",
    "    Please ensure that the draft is coherent and flows logically from one section to another.\n",
    "    \"\"\",\n",
    ")\n",
    "\n",
    "blog_post_enhancement_agent = AssistantAgent(\n",
    "    name=\"BlogPostEnhancementAgent\",\n",
    "    model_client=model_client,\n",
    "    system_message=\"\"\"\n",
    "        You are an expert editor. \n",
    "        Your task is to enhance the blog post draft by adding more details and improving the language.\n",
    "        If you're satisfied with the draft, you can finalize it by saying 'FINAL'.\n",
    "        \"\"\",\n",
    ")"
   ]
  },
  {
   "cell_type": "code",
   "execution_count": null,
   "id": "002a6585",
   "metadata": {},
   "outputs": [],
   "source": [
    "text_mention_condition = TextMentionTermination(\"FINAL\")\n",
    "\n",
    "team = RoundRobinGroupChat(\n",
    "    [blog_post_draft_agent, blog_post_enhancement_agent],\n",
    "    termination_condition=text_mention_condition,\n",
    ")"
   ]
  },
  {
   "cell_type": "code",
   "execution_count": null,
   "id": "65776736",
   "metadata": {},
   "outputs": [],
   "source": [
    "await Console(\n",
    "    team.run_stream(task=\"Create a short blog post about the benefits of meditation.\"))"
   ]
  }
 ],
 "metadata": {
  "kernelspec": {
   "display_name": ".venv",
   "language": "python",
   "name": "python3"
  },
  "language_info": {
   "codemirror_mode": {
    "name": "ipython",
    "version": 3
   },
   "file_extension": ".py",
   "mimetype": "text/x-python",
   "name": "python",
   "nbconvert_exporter": "python",
   "pygments_lexer": "ipython3",
   "version": "3.12.9"
  }
 },
 "nbformat": 4,
 "nbformat_minor": 5
}
