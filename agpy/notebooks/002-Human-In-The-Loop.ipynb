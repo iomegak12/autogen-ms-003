{
 "cells": [
  {
   "cell_type": "markdown",
   "id": "16e07363",
   "metadata": {},
   "source": [
    "### Human in the Loop and Multiple Termination Condition"
   ]
  },
  {
   "cell_type": "code",
   "execution_count": null,
   "id": "4ad1ca2c",
   "metadata": {},
   "outputs": [],
   "source": [
    "from autogen_agentchat.agents import AssistantAgent, UserProxyAgent\n",
    "from autogen_agentchat.conditions import TextMentionTermination, MaxMessageTermination\n",
    "from autogen_agentchat.teams import RoundRobinGroupChat\n",
    "from autogen_agentchat.base import TaskResult\n",
    "from autogen_ext.models.openai import AzureOpenAIChatCompletionClient\n",
    "from autogen_agentchat.ui import Console\n",
    "\n",
    "from dotenv import load_dotenv\n",
    "\n",
    "import os"
   ]
  },
  {
   "cell_type": "code",
   "execution_count": null,
   "id": "f899e2c0",
   "metadata": {},
   "outputs": [],
   "source": [
    "load_dotenv(override=True)\n",
    "\n",
    "azure_openai_api_key = os.getenv(\"AZURE_OPENAI_API_KEY\")\n",
    "azure_openai_endpoint = os.getenv(\"AZURE_OPENAI_ENDPOINT\")\n",
    "azure_openai_api_version = os.getenv(\"AZURE_OPENAI_API_VERSION\", \"2023-05-15\")\n",
    "azure_openai_deployment_name = os.getenv(\n",
    "    \"AZURE_OPENAI_DEPLOYMENT_NAME\", \"gpt-35-turbo\")\n",
    "\n",
    "if not azure_openai_api_key or \\\n",
    "        not azure_openai_endpoint or \\\n",
    "        not azure_openai_api_version or \\\n",
    "        not azure_openai_deployment_name:\n",
    "    raise ValueError(\n",
    "        \"Please set Azure Open AI Endpoint Details in your environment variables.\")"
   ]
  },
  {
   "cell_type": "code",
   "execution_count": null,
   "id": "25dbfcb7",
   "metadata": {},
   "outputs": [],
   "source": [
    "model_client = AzureOpenAIChatCompletionClient(\n",
    "    azure_deployment=azure_openai_deployment_name,\n",
    "    model=azure_openai_deployment_name,\n",
    "    api_key=azure_openai_api_key,\n",
    "    azure_endpoint=azure_openai_endpoint,\n",
    "    api_version=azure_openai_api_version,\n",
    ")"
   ]
  },
  {
   "cell_type": "code",
   "execution_count": null,
   "id": "c4dfb64e",
   "metadata": {},
   "outputs": [],
   "source": [
    "assistant = AssistantAgent(\n",
    "    name=\"Assistant\",\n",
    "    model_client=model_client,\n",
    "    system_message=\"You are a helpful assistant.\",\n",
    ")\n",
    "\n",
    "user_proxy = UserProxyAgent(\n",
    "    name=\"UserProxy\",\n",
    "    input_func=input,\n",
    ")\n",
    "\n",
    "text_termination = TextMentionTermination(\"APPROVE\")\n",
    "max_messages_termination = MaxMessageTermination(10)\n",
    "combined_termination = text_termination | max_messages_termination\n",
    "\n",
    "team = RoundRobinGroupChat([assistant, user_proxy],\n",
    "                           termination_condition=combined_termination,\n",
    "                           )"
   ]
  },
  {
   "cell_type": "code",
   "execution_count": null,
   "id": "eba0c948",
   "metadata": {},
   "outputs": [],
   "source": [
    "await Console(\n",
    "    team.run_stream(\n",
    "        task=\"Suggest three creative ideams for a new mobile app.\"))"
   ]
  }
 ],
 "metadata": {
  "kernelspec": {
   "display_name": ".venv",
   "language": "python",
   "name": "python3"
  },
  "language_info": {
   "codemirror_mode": {
    "name": "ipython",
    "version": 3
   },
   "file_extension": ".py",
   "mimetype": "text/x-python",
   "name": "python",
   "nbconvert_exporter": "python",
   "pygments_lexer": "ipython3",
   "version": "3.12.9"
  }
 },
 "nbformat": 4,
 "nbformat_minor": 5
}
