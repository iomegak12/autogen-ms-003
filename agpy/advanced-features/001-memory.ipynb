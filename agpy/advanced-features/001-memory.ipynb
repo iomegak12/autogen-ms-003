{
 "cells": [
  {
   "cell_type": "markdown",
   "id": "be82a576",
   "metadata": {},
   "source": [
    "AutoGen - Memory Support"
   ]
  },
  {
   "cell_type": "code",
   "execution_count": 23,
   "id": "704369ce",
   "metadata": {},
   "outputs": [],
   "source": [
    "from autogen_agentchat.agents import AssistantAgent\n",
    "from autogen_ext.models.openai import AzureOpenAIChatCompletionClient\n",
    "from autogen_agentchat.ui import Console\n",
    "from autogen_core.memory import ListMemory, MemoryContent, MemoryMimeType\n",
    "from dotenv import load_dotenv\n",
    "\n",
    "import os"
   ]
  },
  {
   "cell_type": "code",
   "execution_count": 24,
   "id": "e4f583ed",
   "metadata": {},
   "outputs": [],
   "source": [
    "load_dotenv(override=True)\n",
    "\n",
    "azure_openai_api_key = os.getenv(\"AZURE_OPENAI_API_KEY\")\n",
    "azure_openai_endpoint = os.getenv(\"AZURE_OPENAI_ENDPOINT\")\n",
    "azure_openai_api_version = os.getenv(\"AZURE_OPENAI_API_VERSION\", \"2023-05-15\")\n",
    "azure_openai_deployment_name = os.getenv(\n",
    "    \"AZURE_OPENAI_DEPLOYMENT_NAME\", \"gpt-35-turbo\")\n",
    "\n",
    "if not azure_openai_api_key or \\\n",
    "        not azure_openai_endpoint or \\\n",
    "        not azure_openai_api_version or \\\n",
    "        not azure_openai_deployment_name:\n",
    "    raise ValueError(\n",
    "        \"Please set Azure Open AI Endpoint Details in your environment variables.\")\n"
   ]
  },
  {
   "cell_type": "code",
   "execution_count": 25,
   "id": "074da063",
   "metadata": {},
   "outputs": [],
   "source": [
    "model_client = AzureOpenAIChatCompletionClient(\n",
    "    azure_deployment=azure_openai_deployment_name,\n",
    "    model=azure_openai_deployment_name,\n",
    "    api_key=azure_openai_api_key,\n",
    "    azure_endpoint=azure_openai_endpoint,\n",
    "    api_version=azure_openai_api_version,\n",
    ")"
   ]
  },
  {
   "cell_type": "code",
   "execution_count": 26,
   "id": "554c41ea",
   "metadata": {},
   "outputs": [],
   "source": [
    "user_memory = ListMemory()\n",
    "\n",
    "await user_memory.add(\n",
    "    MemoryContent(\n",
    "        mime_type=MemoryMimeType.TEXT,\n",
    "        content=\"The weather should be in metric units, like Celsius and meters per second.\",\n",
    "    )\n",
    ")\n",
    "\n",
    "await user_memory.add(\n",
    "    MemoryContent(\n",
    "        mime_type=MemoryMimeType.TEXT,\n",
    "        content=\"I like to have always vegan recipes.\",\n",
    "    )\n",
    ")"
   ]
  },
  {
   "cell_type": "code",
   "execution_count": 27,
   "id": "fa7771a7",
   "metadata": {},
   "outputs": [],
   "source": [
    "def get_weather(city: str, units:str = \"imperial\") -> str:\n",
    "    if units == \"metric\":\n",
    "        return f\"The weather in {city} is 20 degrees Celsius with a wind speed of 5 meters per second.\"\n",
    "    elif units == \"imperial\":\n",
    "        return f\"The weather in {city} is 68 degrees Fahrenheit with a wind speed of 11 miles per hour.\"\n",
    "    else:\n",
    "        return f\"Sorry, I don't know the weather in {city} for the units {units}.\"\n",
    "    \n",
    "assistant_agent = AssistantAgent(\n",
    "    name=\"WeatherAssistant\",\n",
    "    model_client=model_client,\n",
    "    memory=[user_memory],\n",
    "    system_message=\"You are a helpful assistant that provides weather information.\",\n",
    "    tools=[get_weather],\n",
    ")"
   ]
  },
  {
   "cell_type": "code",
   "execution_count": 28,
   "id": "cfbf2588",
   "metadata": {},
   "outputs": [
    {
     "name": "stdout",
     "output_type": "stream",
     "text": [
      "---------- TextMessage (user) ----------\n",
      "What's the weather in Paris?\n",
      "---------- MemoryQueryEvent (WeatherAssistant) ----------\n",
      "[MemoryContent(content='The weather should be in metric units, like Celsius and meters per second.', mime_type=<MemoryMimeType.TEXT: 'text/plain'>, metadata=None), MemoryContent(content='I like to have always vegan recipes.', mime_type=<MemoryMimeType.TEXT: 'text/plain'>, metadata=None)]\n",
      "---------- ToolCallRequestEvent (WeatherAssistant) ----------\n",
      "[FunctionCall(id='call_q0qz5AxhPgDUqcdZ8B4LmgGa', arguments='{\"city\":\"Paris\",\"units\":\"metric\"}', name='get_weather')]\n",
      "---------- ToolCallExecutionEvent (WeatherAssistant) ----------\n",
      "[FunctionExecutionResult(content='The weather in Paris is 20 degrees Celsius with a wind speed of 5 meters per second.', name='get_weather', call_id='call_q0qz5AxhPgDUqcdZ8B4LmgGa', is_error=False)]\n",
      "---------- ToolCallSummaryMessage (WeatherAssistant) ----------\n",
      "The weather in Paris is 20 degrees Celsius with a wind speed of 5 meters per second.\n"
     ]
    },
    {
     "data": {
      "text/plain": [
       "TaskResult(messages=[TextMessage(source='user', models_usage=None, metadata={}, created_at=datetime.datetime(2025, 6, 13, 16, 12, 59, 179597, tzinfo=datetime.timezone.utc), content=\"What's the weather in Paris?\", type='TextMessage'), MemoryQueryEvent(source='WeatherAssistant', models_usage=None, metadata={}, created_at=datetime.datetime(2025, 6, 13, 16, 12, 59, 183605, tzinfo=datetime.timezone.utc), content=[MemoryContent(content='The weather should be in metric units, like Celsius and meters per second.', mime_type=<MemoryMimeType.TEXT: 'text/plain'>, metadata=None), MemoryContent(content='I like to have always vegan recipes.', mime_type=<MemoryMimeType.TEXT: 'text/plain'>, metadata=None)], type='MemoryQueryEvent'), ToolCallRequestEvent(source='WeatherAssistant', models_usage=RequestUsage(prompt_tokens=116, completion_tokens=19), metadata={}, created_at=datetime.datetime(2025, 6, 13, 16, 13, 0, 610169, tzinfo=datetime.timezone.utc), content=[FunctionCall(id='call_q0qz5AxhPgDUqcdZ8B4LmgGa', arguments='{\"city\":\"Paris\",\"units\":\"metric\"}', name='get_weather')], type='ToolCallRequestEvent'), ToolCallExecutionEvent(source='WeatherAssistant', models_usage=None, metadata={}, created_at=datetime.datetime(2025, 6, 13, 16, 13, 0, 615197, tzinfo=datetime.timezone.utc), content=[FunctionExecutionResult(content='The weather in Paris is 20 degrees Celsius with a wind speed of 5 meters per second.', name='get_weather', call_id='call_q0qz5AxhPgDUqcdZ8B4LmgGa', is_error=False)], type='ToolCallExecutionEvent'), ToolCallSummaryMessage(source='WeatherAssistant', models_usage=None, metadata={}, created_at=datetime.datetime(2025, 6, 13, 16, 13, 0, 618199, tzinfo=datetime.timezone.utc), content='The weather in Paris is 20 degrees Celsius with a wind speed of 5 meters per second.', type='ToolCallSummaryMessage', tool_calls=[FunctionCall(id='call_q0qz5AxhPgDUqcdZ8B4LmgGa', arguments='{\"city\":\"Paris\",\"units\":\"metric\"}', name='get_weather')], results=[FunctionExecutionResult(content='The weather in Paris is 20 degrees Celsius with a wind speed of 5 meters per second.', name='get_weather', call_id='call_q0qz5AxhPgDUqcdZ8B4LmgGa', is_error=False)])], stop_reason=None)"
      ]
     },
     "execution_count": 28,
     "metadata": {},
     "output_type": "execute_result"
    }
   ],
   "source": [
    "stream = assistant_agent.run_stream(task = \"What's the weather in Paris?\")\n",
    "\n",
    "await Console(stream)"
   ]
  },
  {
   "cell_type": "code",
   "execution_count": 29,
   "id": "c5678b5c",
   "metadata": {},
   "outputs": [
    {
     "data": {
      "text/plain": [
       "[UserMessage(content=\"What's the weather in Paris?\", source='user', type='UserMessage'),\n",
       " SystemMessage(content='\\nRelevant memory content (in chronological order):\\n1. The weather should be in metric units, like Celsius and meters per second.\\n2. I like to have always vegan recipes.\\n', type='SystemMessage'),\n",
       " AssistantMessage(content=[FunctionCall(id='call_q0qz5AxhPgDUqcdZ8B4LmgGa', arguments='{\"city\":\"Paris\",\"units\":\"metric\"}', name='get_weather')], thought=None, source='WeatherAssistant', type='AssistantMessage'),\n",
       " FunctionExecutionResultMessage(content=[FunctionExecutionResult(content='The weather in Paris is 20 degrees Celsius with a wind speed of 5 meters per second.', name='get_weather', call_id='call_q0qz5AxhPgDUqcdZ8B4LmgGa', is_error=False)], type='FunctionExecutionResultMessage')]"
      ]
     },
     "execution_count": 29,
     "metadata": {},
     "output_type": "execute_result"
    }
   ],
   "source": [
    "await assistant_agent._model_context.get_messages()"
   ]
  },
  {
   "cell_type": "code",
   "execution_count": 30,
   "id": "5f2caa97",
   "metadata": {},
   "outputs": [
    {
     "name": "stdout",
     "output_type": "stream",
     "text": [
      "---------- TextMessage (user) ----------\n",
      "Write brief meal recipe with broth\n",
      "---------- MemoryQueryEvent (WeatherAssistant) ----------\n",
      "[MemoryContent(content='The weather should be in metric units, like Celsius and meters per second.', mime_type=<MemoryMimeType.TEXT: 'text/plain'>, metadata=None), MemoryContent(content='I like to have always vegan recipes.', mime_type=<MemoryMimeType.TEXT: 'text/plain'>, metadata=None)]\n",
      "---------- TextMessage (WeatherAssistant) ----------\n",
      "Here's a simple vegan broth recipe:\n",
      "\n",
      "### Vegan Vegetable Broth\n",
      "\n",
      "#### Ingredients:\n",
      "- 1 tablespoon olive oil\n",
      "- 1 onion, chopped\n",
      "- 2 carrots, chopped\n",
      "- 2 celery stalks, chopped\n",
      "- 3 garlic cloves, minced\n",
      "- 1 bay leaf\n",
      "- 1 teaspoon dried thyme\n",
      "- 1 teaspoon black peppercorns\n",
      "- 2 liters water\n",
      "- Salt to taste\n",
      "- Fresh herbs (parsley or dill) for garnish\n",
      "\n",
      "#### Instructions:\n",
      "1. **Sauté the Vegetables**: In a large pot, heat the olive oil over medium heat. Add the chopped onion, carrots, and celery. Sauté for about 5-7 minutes until they begin to soften.\n",
      "  \n",
      "2. **Add Garlic and Spices**: Stir in the minced garlic, bay leaf, thyme, and black peppercorns. Cook for another 2 minutes.\n",
      "\n",
      "3. **Add Water**: Pour in 2 liters of water and bring to a boil. Reduce heat to low and let it simmer for at least 30 minutes.\n",
      "\n",
      "4. **Strain the Broth**: After simmering, strain the broth through a fine-mesh sieve to remove the vegetable solids. \n",
      "\n",
      "5. **Season and Serve**: Taste and add salt as needed. Garnish with fresh herbs before serving.\n",
      "\n",
      "Enjoy your warm and comforting vegan broth!\n"
     ]
    },
    {
     "data": {
      "text/plain": [
       "TaskResult(messages=[TextMessage(source='user', models_usage=None, metadata={}, created_at=datetime.datetime(2025, 6, 13, 16, 13, 0, 656494, tzinfo=datetime.timezone.utc), content='Write brief meal recipe with broth', type='TextMessage'), MemoryQueryEvent(source='WeatherAssistant', models_usage=None, metadata={}, created_at=datetime.datetime(2025, 6, 13, 16, 13, 0, 662494, tzinfo=datetime.timezone.utc), content=[MemoryContent(content='The weather should be in metric units, like Celsius and meters per second.', mime_type=<MemoryMimeType.TEXT: 'text/plain'>, metadata=None), MemoryContent(content='I like to have always vegan recipes.', mime_type=<MemoryMimeType.TEXT: 'text/plain'>, metadata=None)], type='MemoryQueryEvent'), TextMessage(source='WeatherAssistant', models_usage=RequestUsage(prompt_tokens=213, completion_tokens=283), metadata={}, created_at=datetime.datetime(2025, 6, 13, 16, 13, 4, 821745, tzinfo=datetime.timezone.utc), content=\"Here's a simple vegan broth recipe:\\n\\n### Vegan Vegetable Broth\\n\\n#### Ingredients:\\n- 1 tablespoon olive oil\\n- 1 onion, chopped\\n- 2 carrots, chopped\\n- 2 celery stalks, chopped\\n- 3 garlic cloves, minced\\n- 1 bay leaf\\n- 1 teaspoon dried thyme\\n- 1 teaspoon black peppercorns\\n- 2 liters water\\n- Salt to taste\\n- Fresh herbs (parsley or dill) for garnish\\n\\n#### Instructions:\\n1. **Sauté the Vegetables**: In a large pot, heat the olive oil over medium heat. Add the chopped onion, carrots, and celery. Sauté for about 5-7 minutes until they begin to soften.\\n  \\n2. **Add Garlic and Spices**: Stir in the minced garlic, bay leaf, thyme, and black peppercorns. Cook for another 2 minutes.\\n\\n3. **Add Water**: Pour in 2 liters of water and bring to a boil. Reduce heat to low and let it simmer for at least 30 minutes.\\n\\n4. **Strain the Broth**: After simmering, strain the broth through a fine-mesh sieve to remove the vegetable solids. \\n\\n5. **Season and Serve**: Taste and add salt as needed. Garnish with fresh herbs before serving.\\n\\nEnjoy your warm and comforting vegan broth!\", type='TextMessage')], stop_reason=None)"
      ]
     },
     "execution_count": 30,
     "metadata": {},
     "output_type": "execute_result"
    }
   ],
   "source": [
    "stream = assistant_agent.run_stream(task =\"Write brief meal recipe with broth\")\n",
    "\n",
    "await Console(stream)"
   ]
  },
  {
   "cell_type": "code",
   "execution_count": 31,
   "id": "72fbdd1f",
   "metadata": {},
   "outputs": [],
   "source": [
    "from autogen_ext.memory.chromadb import ChromaDBVectorMemory, PersistentChromaDBVectorMemoryConfig\n",
    "from pathlib import Path"
   ]
  },
  {
   "cell_type": "code",
   "execution_count": 32,
   "id": "a653843b",
   "metadata": {},
   "outputs": [],
   "source": [
    "chroma_user_memory = ChromaDBVectorMemory(\n",
    "    config=PersistentChromaDBVectorMemoryConfig(\n",
    "        collection_name=\"user_memory\",\n",
    "        persistent_path=os.path.join(str(Path.home()), \".chroma_autogen\"),\n",
    "        k=2,\n",
    "        scrore_threshold=0.5,\n",
    "    )\n",
    ")"
   ]
  },
  {
   "cell_type": "code",
   "execution_count": 33,
   "id": "03156da1",
   "metadata": {},
   "outputs": [],
   "source": [
    "await chroma_user_memory.add(\n",
    "    MemoryContent(\n",
    "        mime_type=MemoryMimeType.TEXT,\n",
    "        content=\"I like to have always vegan recipes.\",\n",
    "    )\n",
    ")\n",
    "\n",
    "await chroma_user_memory.add(\n",
    "    MemoryContent(\n",
    "        mime_type=MemoryMimeType.TEXT,\n",
    "        content=\"The weather should be in metric units, like Celsius and meters per second\"))"
   ]
  },
  {
   "cell_type": "code",
   "execution_count": 34,
   "id": "55d44218",
   "metadata": {},
   "outputs": [],
   "source": [
    "assistant_agent_v2 = AssistantAgent(\n",
    "    name=\"AssistantV3\",\n",
    "    model_client=model_client,\n",
    "    memory=[chroma_user_memory],\n",
    "    system_message=\"You are a helpful assistant that provides weather information.\",\n",
    "    tools=[get_weather],\n",
    ")"
   ]
  },
  {
   "cell_type": "code",
   "execution_count": 35,
   "id": "88361e7d",
   "metadata": {},
   "outputs": [
    {
     "name": "stdout",
     "output_type": "stream",
     "text": [
      "---------- TextMessage (user) ----------\n",
      "What's the weather in Paris?\n",
      "---------- MemoryQueryEvent (AssistantV3) ----------\n",
      "[MemoryContent(content='The weather should be in metric units, like Celsius and meters per second', mime_type='MemoryMimeType.TEXT', metadata={'mime_type': 'MemoryMimeType.TEXT', 'score': 0.48089420795440674, 'id': '12c434d4-ab57-4fce-b348-36d32a6ec0cd'}), MemoryContent(content='The weather should be in metric units, like Celsius and meters per second', mime_type='MemoryMimeType.TEXT', metadata={'mime_type': 'MemoryMimeType.TEXT', 'score': 0.48089420795440674, 'id': 'feb5fecb-8894-4eb2-a546-3e3a1d7c06c1'})]\n",
      "---------- ToolCallRequestEvent (AssistantV3) ----------\n",
      "[FunctionCall(id='call_jo368tpSj8sgEzcJJdZYe2aA', arguments='{\"city\":\"Paris\",\"units\":\"metric\"}', name='get_weather')]\n",
      "---------- ToolCallExecutionEvent (AssistantV3) ----------\n",
      "[FunctionExecutionResult(content='The weather in Paris is 20 degrees Celsius with a wind speed of 5 meters per second.', name='get_weather', call_id='call_jo368tpSj8sgEzcJJdZYe2aA', is_error=False)]\n",
      "---------- ToolCallSummaryMessage (AssistantV3) ----------\n",
      "The weather in Paris is 20 degrees Celsius with a wind speed of 5 meters per second.\n"
     ]
    },
    {
     "data": {
      "text/plain": [
       "TaskResult(messages=[TextMessage(source='user', models_usage=None, metadata={}, created_at=datetime.datetime(2025, 6, 13, 16, 13, 5, 816288, tzinfo=datetime.timezone.utc), content=\"What's the weather in Paris?\", type='TextMessage'), MemoryQueryEvent(source='AssistantV3', models_usage=None, metadata={}, created_at=datetime.datetime(2025, 6, 13, 16, 13, 6, 198447, tzinfo=datetime.timezone.utc), content=[MemoryContent(content='The weather should be in metric units, like Celsius and meters per second', mime_type='MemoryMimeType.TEXT', metadata={'mime_type': 'MemoryMimeType.TEXT', 'score': 0.48089420795440674, 'id': '12c434d4-ab57-4fce-b348-36d32a6ec0cd'}), MemoryContent(content='The weather should be in metric units, like Celsius and meters per second', mime_type='MemoryMimeType.TEXT', metadata={'mime_type': 'MemoryMimeType.TEXT', 'score': 0.48089420795440674, 'id': 'feb5fecb-8894-4eb2-a546-3e3a1d7c06c1'})], type='MemoryQueryEvent'), ToolCallRequestEvent(source='AssistantV3', models_usage=RequestUsage(prompt_tokens=118, completion_tokens=19), metadata={}, created_at=datetime.datetime(2025, 6, 13, 16, 13, 7, 25255, tzinfo=datetime.timezone.utc), content=[FunctionCall(id='call_jo368tpSj8sgEzcJJdZYe2aA', arguments='{\"city\":\"Paris\",\"units\":\"metric\"}', name='get_weather')], type='ToolCallRequestEvent'), ToolCallExecutionEvent(source='AssistantV3', models_usage=None, metadata={}, created_at=datetime.datetime(2025, 6, 13, 16, 13, 7, 33432, tzinfo=datetime.timezone.utc), content=[FunctionExecutionResult(content='The weather in Paris is 20 degrees Celsius with a wind speed of 5 meters per second.', name='get_weather', call_id='call_jo368tpSj8sgEzcJJdZYe2aA', is_error=False)], type='ToolCallExecutionEvent'), ToolCallSummaryMessage(source='AssistantV3', models_usage=None, metadata={}, created_at=datetime.datetime(2025, 6, 13, 16, 13, 7, 38445, tzinfo=datetime.timezone.utc), content='The weather in Paris is 20 degrees Celsius with a wind speed of 5 meters per second.', type='ToolCallSummaryMessage', tool_calls=[FunctionCall(id='call_jo368tpSj8sgEzcJJdZYe2aA', arguments='{\"city\":\"Paris\",\"units\":\"metric\"}', name='get_weather')], results=[FunctionExecutionResult(content='The weather in Paris is 20 degrees Celsius with a wind speed of 5 meters per second.', name='get_weather', call_id='call_jo368tpSj8sgEzcJJdZYe2aA', is_error=False)])], stop_reason=None)"
      ]
     },
     "execution_count": 35,
     "metadata": {},
     "output_type": "execute_result"
    }
   ],
   "source": [
    "stream = assistant_agent_v2.run_stream(task = \"What's the weather in Paris?\")\n",
    "\n",
    "await Console(stream)"
   ]
  },
  {
   "cell_type": "code",
   "execution_count": 36,
   "id": "9e8998b0",
   "metadata": {},
   "outputs": [
    {
     "name": "stdout",
     "output_type": "stream",
     "text": [
      "---------- TextMessage (user) ----------\n",
      "Write brief meal recipe with broth\n",
      "---------- MemoryQueryEvent (WeatherAssistant) ----------\n",
      "[MemoryContent(content='The weather should be in metric units, like Celsius and meters per second.', mime_type=<MemoryMimeType.TEXT: 'text/plain'>, metadata=None), MemoryContent(content='I like to have always vegan recipes.', mime_type=<MemoryMimeType.TEXT: 'text/plain'>, metadata=None)]\n",
      "---------- TextMessage (WeatherAssistant) ----------\n",
      "Here’s a delicious vegan soup recipe that uses broth:\n",
      "\n",
      "### Vegan Vegetable Soup\n",
      "\n",
      "#### Ingredients:\n",
      "- 1 tablespoon olive oil\n",
      "- 1 onion, diced\n",
      "- 2 carrots, sliced\n",
      "- 2 celery stalks, chopped\n",
      "- 3 garlic cloves, minced\n",
      "- 1 zucchini, diced\n",
      "- 1 can (400g) diced tomatoes\n",
      "- 1 liter vegetable broth\n",
      "- 1 teaspoon dried oregano\n",
      "- 1 teaspoon dried basil\n",
      "- Salt and pepper to taste\n",
      "- Fresh spinach or kale (optional)\n",
      "- Lemon juice (optional for garnish)\n",
      "\n",
      "#### Instructions:\n",
      "1. **Sauté the Vegetables**: In a large pot, heat the olive oil over medium heat. Add the diced onion, carrots, and celery. Cook for about 5 minutes until the vegetables are softened.\n",
      "\n",
      "2. **Add Garlic and Zucchini**: Stir in the minced garlic and diced zucchini, cooking for another 2-3 minutes.\n",
      "\n",
      "3. **Combine Ingredients**: Add the canned tomatoes, vegetable broth, dried oregano, and dried basil to the pot. Bring the mixture to a boil.\n",
      "\n",
      "4. **Simmer the Soup**: Reduce the heat and let it simmer for about 20-25 minutes. If using, add fresh spinach or kale in the last 5 minutes of cooking.\n",
      "\n",
      "5. **Season and Serve**: Season with salt and pepper to taste. Optionally, squeeze some lemon juice over the soup before serving.\n",
      "\n",
      "Enjoy your nourishing vegan vegetable soup!\n"
     ]
    },
    {
     "data": {
      "text/plain": [
       "TaskResult(messages=[TextMessage(source='user', models_usage=None, metadata={}, created_at=datetime.datetime(2025, 6, 13, 16, 13, 7, 66615, tzinfo=datetime.timezone.utc), content='Write brief meal recipe with broth', type='TextMessage'), MemoryQueryEvent(source='WeatherAssistant', models_usage=None, metadata={}, created_at=datetime.datetime(2025, 6, 13, 16, 13, 7, 71182, tzinfo=datetime.timezone.utc), content=[MemoryContent(content='The weather should be in metric units, like Celsius and meters per second.', mime_type=<MemoryMimeType.TEXT: 'text/plain'>, metadata=None), MemoryContent(content='I like to have always vegan recipes.', mime_type=<MemoryMimeType.TEXT: 'text/plain'>, metadata=None)], type='MemoryQueryEvent'), TextMessage(source='WeatherAssistant', models_usage=RequestUsage(prompt_tokens=549, completion_tokens=307), metadata={}, created_at=datetime.datetime(2025, 6, 13, 16, 13, 12, 128409, tzinfo=datetime.timezone.utc), content='Here’s a delicious vegan soup recipe that uses broth:\\n\\n### Vegan Vegetable Soup\\n\\n#### Ingredients:\\n- 1 tablespoon olive oil\\n- 1 onion, diced\\n- 2 carrots, sliced\\n- 2 celery stalks, chopped\\n- 3 garlic cloves, minced\\n- 1 zucchini, diced\\n- 1 can (400g) diced tomatoes\\n- 1 liter vegetable broth\\n- 1 teaspoon dried oregano\\n- 1 teaspoon dried basil\\n- Salt and pepper to taste\\n- Fresh spinach or kale (optional)\\n- Lemon juice (optional for garnish)\\n\\n#### Instructions:\\n1. **Sauté the Vegetables**: In a large pot, heat the olive oil over medium heat. Add the diced onion, carrots, and celery. Cook for about 5 minutes until the vegetables are softened.\\n\\n2. **Add Garlic and Zucchini**: Stir in the minced garlic and diced zucchini, cooking for another 2-3 minutes.\\n\\n3. **Combine Ingredients**: Add the canned tomatoes, vegetable broth, dried oregano, and dried basil to the pot. Bring the mixture to a boil.\\n\\n4. **Simmer the Soup**: Reduce the heat and let it simmer for about 20-25 minutes. If using, add fresh spinach or kale in the last 5 minutes of cooking.\\n\\n5. **Season and Serve**: Season with salt and pepper to taste. Optionally, squeeze some lemon juice over the soup before serving.\\n\\nEnjoy your nourishing vegan vegetable soup!', type='TextMessage')], stop_reason=None)"
      ]
     },
     "execution_count": 36,
     "metadata": {},
     "output_type": "execute_result"
    }
   ],
   "source": [
    "stream = assistant_agent.run_stream(task =\"Write brief meal recipe with broth\")\n",
    "\n",
    "await Console(stream)"
   ]
  },
  {
   "cell_type": "code",
   "execution_count": 37,
   "id": "d4ffe9ca",
   "metadata": {},
   "outputs": [
    {
     "data": {
      "text/plain": [
       "'{\"provider\":\"autogen_ext.memory.chromadb.ChromaDBVectorMemory\",\"component_type\":\"memory\",\"version\":1,\"component_version\":1,\"description\":\"Store and retrieve memory using vector similarity search powered by ChromaDB.\",\"label\":\"ChromaDBVectorMemory\",\"config\":{\"client_type\":\"persistent\",\"collection_name\":\"user_memory\",\"distance_metric\":\"cosine\",\"k\":2,\"allow_reset\":false,\"tenant\":\"default_tenant\",\"database\":\"default_database\",\"persistence_path\":\"./chroma_db\"}}'"
      ]
     },
     "execution_count": 37,
     "metadata": {},
     "output_type": "execute_result"
    }
   ],
   "source": [
    "chroma_user_memory.dump_component().model_dump_json()"
   ]
  }
 ],
 "metadata": {
  "kernelspec": {
   "display_name": ".venv",
   "language": "python",
   "name": "python3"
  },
  "language_info": {
   "codemirror_mode": {
    "name": "ipython",
    "version": 3
   },
   "file_extension": ".py",
   "mimetype": "text/x-python",
   "name": "python",
   "nbconvert_exporter": "python",
   "pygments_lexer": "ipython3",
   "version": "3.12.9"
  }
 },
 "nbformat": 4,
 "nbformat_minor": 5
}
