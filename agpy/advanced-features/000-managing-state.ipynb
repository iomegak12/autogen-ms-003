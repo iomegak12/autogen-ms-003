{
 "cells": [
  {
   "cell_type": "markdown",
   "id": "68799e9a",
   "metadata": {},
   "source": [
    "### Managing State - Agents and Teams"
   ]
  },
  {
   "cell_type": "code",
   "execution_count": null,
   "id": "faeaa20a",
   "metadata": {},
   "outputs": [],
   "source": [
    "from autogen_agentchat.agents import AssistantAgent\n",
    "from autogen_agentchat.conditions import TextMentionTermination, MaxMessageTermination\n",
    "from autogen_agentchat.teams import RoundRobinGroupChat\n",
    "from autogen_agentchat.messages import AgentEvent, ChatMessage, TextMessage\n",
    "from autogen_agentchat.base import TaskResult\n",
    "from autogen_ext.models.openai import AzureOpenAIChatCompletionClient\n",
    "from autogen_agentchat.ui import Console\n",
    "from autogen_core import CancellationToken\n",
    "\n",
    "from dotenv import load_dotenv\n",
    "\n",
    "import os"
   ]
  },
  {
   "cell_type": "code",
   "execution_count": null,
   "id": "16671beb",
   "metadata": {},
   "outputs": [],
   "source": [
    "load_dotenv(override=True)\n",
    "\n",
    "azure_openai_api_key = os.getenv(\"AZURE_OPENAI_API_KEY\")\n",
    "azure_openai_endpoint = os.getenv(\"AZURE_OPENAI_ENDPOINT\")\n",
    "azure_openai_api_version = os.getenv(\"AZURE_OPENAI_API_VERSION\", \"2023-05-15\")\n",
    "azure_openai_deployment_name = os.getenv(\n",
    "    \"AZURE_OPENAI_DEPLOYMENT_NAME\", \"gpt-35-turbo\")\n",
    "\n",
    "if not azure_openai_api_key or \\\n",
    "        not azure_openai_endpoint or \\\n",
    "        not azure_openai_api_version or \\\n",
    "        not azure_openai_deployment_name:\n",
    "    raise ValueError(\n",
    "        \"Please set Azure Open AI Endpoint Details in your environment variables.\")"
   ]
  },
  {
   "cell_type": "code",
   "execution_count": null,
   "id": "d3b24ee3",
   "metadata": {},
   "outputs": [],
   "source": [
    "model_client = AzureOpenAIChatCompletionClient(\n",
    "    azure_deployment=azure_openai_deployment_name,\n",
    "    model=azure_openai_deployment_name,\n",
    "    api_key=azure_openai_api_key,\n",
    "    azure_endpoint=azure_openai_endpoint,\n",
    "    api_version=azure_openai_api_version,\n",
    ")"
   ]
  },
  {
   "cell_type": "code",
   "execution_count": null,
   "id": "eb9c5f53",
   "metadata": {},
   "outputs": [],
   "source": [
    "assistant_agent = AssistantAgent(\n",
    "    name=\"Assistant\",\n",
    "    model_client=model_client,\n",
    "    system_message=\"You are a helpful assistant.\",\n",
    ")\n",
    "\n",
    "response = await assistant_agent.on_messages(\n",
    "    [\n",
    "        TextMessage(\n",
    "            content=\"Tell me facts about Dolphins.\",\n",
    "            source=\"user\",\n",
    "        ),\n",
    "    ],\n",
    "    cancellation_token=CancellationToken(),\n",
    ")\n",
    "\n",
    "print(response.chat_message.content)"
   ]
  },
  {
   "cell_type": "code",
   "execution_count": null,
   "id": "e552a99e",
   "metadata": {},
   "outputs": [],
   "source": [
    "agent_state = await assistant_agent.save_state()\n",
    "\n",
    "print(agent_state)"
   ]
  },
  {
   "cell_type": "code",
   "execution_count": null,
   "id": "65205c71",
   "metadata": {},
   "outputs": [],
   "source": [
    "new_assistant_agent = AssistantAgent(\n",
    "    name=\"NewAssistantAgent\",\n",
    "    model_client=model_client,\n",
    "    system_message=\"You are a helpful assistant.\",\n",
    ")\n",
    "\n",
    "await new_assistant_agent.load_state(agent_state)\n",
    "\n",
    "response = await new_assistant_agent.on_messages(\n",
    "    [\n",
    "        TextMessage(\n",
    "            content=\"what was the fun facts you shared about Dolphins?\",\n",
    "            source=\"user\",\n",
    "        ),\n",
    "    ],\n",
    "    cancellation_token=CancellationToken(),\n",
    ")\n",
    "\n",
    "print(response.chat_message.content)"
   ]
  },
  {
   "cell_type": "code",
   "execution_count": null,
   "id": "c6ed0f0d",
   "metadata": {},
   "outputs": [],
   "source": [
    "assistant_agent = AssistantAgent(\n",
    "    name=\"Assistant_Agentv2\",\n",
    "    model_client=model_client,\n",
    "    system_message=\"You are a helpful assistant.\",\n",
    ")\n",
    "\n",
    "agent_team = RoundRobinGroupChat([assistant_agent],\n",
    "        termination_condition=MaxMessageTermination(2))\n",
    "\n",
    "stream = agent_team.run_stream(task=\"Tell me surprising facts about Octopuses.\",)\n",
    "\n",
    "await Console(stream)\n",
    "\n",
    "team_state = await agent_team.save_state()"
   ]
  },
  {
   "cell_type": "code",
   "execution_count": null,
   "id": "79965279",
   "metadata": {},
   "outputs": [],
   "source": [
    "await agent_team.reset()\n",
    "\n",
    "stream = agent_team.run_stream(task=\"What was the last animal you talked about?\",)\n",
    "\n",
    "await Console(stream)"
   ]
  },
  {
   "cell_type": "code",
   "execution_count": null,
   "id": "503f1a33",
   "metadata": {},
   "outputs": [],
   "source": [
    "await agent_team.load_state(team_state)\n",
    "\n",
    "stream = agent_team.run_stream(task=\"What was the last animal you talked about?\",)\n",
    "\n",
    "await Console(stream)"
   ]
  },
  {
   "cell_type": "code",
   "execution_count": null,
   "id": "1a83e5e4",
   "metadata": {},
   "outputs": [],
   "source": [
    "import json\n",
    "\n",
    "with open(\"team_state.json\", \"w\") as f:\n",
    "    json.dump(team_state, f, indent=4, sort_keys=True, default=str)"
   ]
  }
 ],
 "metadata": {
  "kernelspec": {
   "display_name": ".venv",
   "language": "python",
   "name": "python3"
  },
  "language_info": {
   "codemirror_mode": {
    "name": "ipython",
    "version": 3
   },
   "file_extension": ".py",
   "mimetype": "text/x-python",
   "name": "python",
   "nbconvert_exporter": "python",
   "pygments_lexer": "ipython3",
   "version": "3.12.9"
  }
 },
 "nbformat": 4,
 "nbformat_minor": 5
}
