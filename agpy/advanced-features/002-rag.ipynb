{
 "cells": [
  {
   "cell_type": "markdown",
   "id": "b426f6f8",
   "metadata": {},
   "source": [
    "### AutoGen Memory (RAG)"
   ]
  },
  {
   "cell_type": "code",
   "execution_count": null,
   "id": "e515c364",
   "metadata": {},
   "outputs": [],
   "source": [
    "import re\n",
    "\n",
    "from typing import List\n",
    "import aiofiles\n",
    "import aiohttp\n",
    "\n",
    "from autogen_core.memory import Memory, MemoryContent, MemoryMimeType"
   ]
  },
  {
   "cell_type": "code",
   "execution_count": null,
   "id": "3a8bfda2",
   "metadata": {},
   "outputs": [],
   "source": [
    "class SimpleDocumentIndexer:\n",
    "    \"\"\"Basic document indexer for AutoGen Memory.\"\"\"\n",
    "\n",
    "    def __init__(self, memory: Memory, chunk_size: int = 1500) -> None:\n",
    "        self.memory = memory\n",
    "        self.chunk_size = chunk_size\n",
    "\n",
    "    async def _fetch_content(self, source: str) -> str:\n",
    "        \"\"\"Fetch content from URL or file.\"\"\"\n",
    "        if source.startswith((\"http://\", \"https://\")):\n",
    "            async with aiohttp.ClientSession() as session:\n",
    "                async with session.get(source) as response:\n",
    "                    return await response.text()\n",
    "        else:\n",
    "            async with aiofiles.open(source, \"r\", encoding=\"utf-8\") as f:\n",
    "                return await f.read()\n",
    "\n",
    "    def _strip_html(self, text: str) -> str:\n",
    "        \"\"\"Remove HTML tags and normalize whitespace.\"\"\"\n",
    "        text = re.sub(r\"<[^>]*>\", \" \", text)\n",
    "        text = re.sub(r\"\\s+\", \" \", text)\n",
    "        return text.strip()\n",
    "\n",
    "    def _split_text(self, text: str) -> List[str]:\n",
    "        \"\"\"Split text into fixed-size chunks.\"\"\"\n",
    "        chunks: list[str] = []\n",
    "        # Just split text into fixed-size chunks\n",
    "        for i in range(0, len(text), self.chunk_size):\n",
    "            chunk = text[i: i + self.chunk_size]\n",
    "            chunks.append(chunk.strip())\n",
    "        return chunks\n",
    "\n",
    "    async def index_documents(self, sources: List[str]) -> int:\n",
    "        \"\"\"Index documents into memory.\"\"\"\n",
    "        total_chunks = 0\n",
    "\n",
    "        for source in sources:\n",
    "            try:\n",
    "                content = await self._fetch_content(source)\n",
    "\n",
    "                # Strip HTML if content appears to be HTML\n",
    "                if \"<\" in content and \">\" in content:\n",
    "                    content = self._strip_html(content)\n",
    "\n",
    "                chunks = self._split_text(content)\n",
    "\n",
    "                for i, chunk in enumerate(chunks):\n",
    "                    await self.memory.add(\n",
    "                        MemoryContent(\n",
    "                            content=chunk, mime_type=MemoryMimeType.TEXT, metadata={\n",
    "                                \"source\": source, \"chunk_index\": i}\n",
    "                        )\n",
    "                    )\n",
    "\n",
    "                total_chunks += len(chunks)\n",
    "\n",
    "            except Exception as e:\n",
    "                print(f\"Error indexing {source}: {str(e)}\")\n",
    "\n",
    "        return total_chunks\n",
    "\n"
   ]
  },
  {
   "cell_type": "code",
   "execution_count": null,
   "id": "14374d7d",
   "metadata": {},
   "outputs": [],
   "source": [
    "from autogen_agentchat.agents import AssistantAgent\n",
    "from autogen_ext.models.openai import AzureOpenAIChatCompletionClient\n",
    "from autogen_agentchat.ui import Console\n",
    "from autogen_core.memory import ListMemory, MemoryContent, MemoryMimeType\n",
    "from autogen_ext.memory.chromadb import ChromaDBVectorMemory, PersistentChromaDBVectorMemoryConfig\n",
    "\n",
    "from pathlib import Path\n",
    "from dotenv import load_dotenv\n",
    "\n",
    "import os"
   ]
  },
  {
   "cell_type": "code",
   "execution_count": null,
   "id": "33950cdf",
   "metadata": {},
   "outputs": [],
   "source": [
    "rag_memory = ChromaDBVectorMemory(\n",
    "    config=PersistentChromaDBVectorMemoryConfig(\n",
    "        collection_name=\"user_memory\",\n",
    "        persistent_path=os.path.join(str(Path.home()), \".chroma_autogen\"),\n",
    "        k=2,\n",
    "        scrore_threshold=0.5,\n",
    "    )\n",
    ")\n",
    "\n",
    "await rag_memory.clear()"
   ]
  },
  {
   "cell_type": "code",
   "execution_count": null,
   "id": "dc132ff6",
   "metadata": {},
   "outputs": [],
   "source": [
    "async def index_autogen_documentation() -> None:\n",
    "    indexer = SimpleDocumentIndexer(memory = rag_memory, chunk_size=1500)\n",
    "    sources = [\n",
    "        \"https://microsoft.github.io/autogen/stable/user-guide/agentchat-user-guide/tutorial/agents.html\",\n",
    "        \"https://microsoft.github.io/autogen/stable/user-guide/agentchat-user-guide/tutorial/teams.html\",\n",
    "        \"https://microsoft.github.io/autogen/stable/user-guide/agentchat-user-guide/tutorial/termination.html\",\n",
    "        \"https://raw.githubusercontent.com/microsoft/autogen/refs/heads/main/README.md\"\n",
    "    ]\n",
    "    \n",
    "    chunks: int = await indexer.index_documents(sources)\n",
    "    print(f\"Indexed {chunks} chunks from {len(sources)} sources.\")\n",
    "    \n",
    "await index_autogen_documentation()"
   ]
  },
  {
   "cell_type": "code",
   "execution_count": null,
   "id": "b2b88cca",
   "metadata": {},
   "outputs": [],
   "source": [
    "load_dotenv(override=True)\n",
    "\n",
    "azure_openai_api_key = os.getenv(\"AZURE_OPENAI_API_KEY\")\n",
    "azure_openai_endpoint = os.getenv(\"AZURE_OPENAI_ENDPOINT\")\n",
    "azure_openai_api_version = os.getenv(\"AZURE_OPENAI_API_VERSION\", \"2023-05-15\")\n",
    "azure_openai_deployment_name = os.getenv(\n",
    "    \"AZURE_OPENAI_DEPLOYMENT_NAME\", \"gpt-35-turbo\")\n",
    "\n",
    "if not azure_openai_api_key or \\\n",
    "        not azure_openai_endpoint or \\\n",
    "        not azure_openai_api_version or \\\n",
    "        not azure_openai_deployment_name:\n",
    "    raise ValueError(\n",
    "        \"Please set Azure Open AI Endpoint Details in your environment variables.\")\n"
   ]
  },
  {
   "cell_type": "code",
   "execution_count": null,
   "id": "8df8f8a1",
   "metadata": {},
   "outputs": [],
   "source": [
    "model_client = AzureOpenAIChatCompletionClient(\n",
    "    azure_deployment=azure_openai_deployment_name,\n",
    "    model=azure_openai_deployment_name,\n",
    "    api_key=azure_openai_api_key,\n",
    "    azure_endpoint=azure_openai_endpoint,\n",
    "    api_version=azure_openai_api_version,\n",
    ")"
   ]
  },
  {
   "cell_type": "code",
   "execution_count": null,
   "id": "2d463c44",
   "metadata": {},
   "outputs": [],
   "source": [
    "rag_assistant = AssistantAgent(\n",
    "    name=\"RAGAssistant\",\n",
    "    description=\"An assistant that can answer questions using the indexed AutoGen documentation.\",\n",
    "    model_client=model_client,\n",
    "    memory=[rag_memory],\n",
    ")"
   ]
  },
  {
   "cell_type": "code",
   "execution_count": null,
   "id": "f66d3588",
   "metadata": {},
   "outputs": [],
   "source": [
    "stream = rag_assistant.run_stream(task = \"What is AutoGen AgentChat?\")\n",
    "\n",
    "await Console(stream)"
   ]
  },
  {
   "cell_type": "code",
   "execution_count": null,
   "id": "fef75627",
   "metadata": {},
   "outputs": [],
   "source": [
    "await rag_memory.close()"
   ]
  }
 ],
 "metadata": {
  "kernelspec": {
   "display_name": ".venv",
   "language": "python",
   "name": "python3"
  },
  "language_info": {
   "codemirror_mode": {
    "name": "ipython",
    "version": 3
   },
   "file_extension": ".py",
   "mimetype": "text/x-python",
   "name": "python",
   "nbconvert_exporter": "python",
   "pygments_lexer": "ipython3",
   "version": "3.12.9"
  }
 },
 "nbformat": 4,
 "nbformat_minor": 5
}
