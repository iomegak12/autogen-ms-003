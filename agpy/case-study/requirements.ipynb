{
 "cells": [
  {
   "cell_type": "markdown",
   "id": "0478b18f",
   "metadata": {},
   "source": [
    "# Multi-Agent Chatbot for Customer Service Support"
   ]
  },
  {
   "cell_type": "markdown",
   "id": "9490a8de",
   "metadata": {},
   "source": [
    "Overview:\n",
    "\n",
    "The Multi-Agent Chatbot for Customer Service support is a conversational AI assistant that utilizes multiple specialized agents to handle customer inquiries related to Product Information, Order Placement, Order Status, and Customer Complaint Registration. The chatbot is built using Streamlit for the Front-End, FastAPI for the Back-end REST API and AutoGen's Multi-Agent Framework for Task Delegation and Execution."
   ]
  },
  {
   "cell_type": "markdown",
   "id": "d97dad36",
   "metadata": {},
   "source": [
    "Key Features\n",
    "\n",
    "- Product Inquiry\n",
    "- Order Placement\n",
    "- Order Status Tracking\n",
    "- Complaint Registration\n",
    "- Multi-Agent Collaboration"
   ]
  },
  {
   "cell_type": "markdown",
   "id": "21c86552",
   "metadata": {},
   "source": [
    "Technology Stack\n",
    "\n",
    "- FastAPI for REST API Design\n",
    "- Uvicorn for API Hosting\n",
    "- AutoGen for Multi-Agent Development\n",
    "- Streamlit for UI\n",
    "- Lists and Dictionary for Database"
   ]
  }
 ],
 "metadata": {
  "language_info": {
   "name": "python"
  }
 },
 "nbformat": 4,
 "nbformat_minor": 5
}
